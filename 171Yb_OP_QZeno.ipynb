{
 "cells": [
  {
   "cell_type": "markdown",
   "id": "dedc599e-6f0d-4c7f-abde-2ef6d14a3c62",
   "metadata": {},
   "source": [
    "## Raman Transitions between Groundstates Induced by Probing Light\n",
    "\n",
    "References:\n",
    "\n",
    "Decay rate and optical Bloch eqns: https://steck.us/alkalidata/cesiumnumbers.pdf\n",
    "\n",
    "Raman transitions: https://arxiv.org/pdf/1802.03640.pdf"
   ]
  },
  {
   "cell_type": "code",
   "execution_count": 76,
   "id": "ceca2ccc-d3b3-443d-9890-c094ddf20878",
   "metadata": {},
   "outputs": [],
   "source": [
    "import numpy as np\n",
    "import matplotlib.pyplot as plt\n",
    "from qutip import *"
   ]
  },
  {
   "cell_type": "code",
   "execution_count": 148,
   "id": "154e4374-4090-4983-8259-fba92b0de492",
   "metadata": {},
   "outputs": [],
   "source": [
    "# 3P1 linewidth \n",
    "Gamma = 182e3 * 2 * np.pi\n",
    "\n",
    "# I_sat: 0.14 W/cm^2\n",
    "I_sat = 0.14\n",
    "\n",
    "# Branching ratio:\n",
    "# --    --    --  --\n",
    "#  \\    |     /\n",
    "#   1  2/3  1/3\n",
    "#       --"
   ]
  },
  {
   "cell_type": "code",
   "execution_count": 365,
   "id": "35301c4f-3553-4d28-9858-528f3ad8d2ce",
   "metadata": {},
   "outputs": [],
   "source": [
    "def Freq_offset(B=5):\n",
    "    return (np.array([0, 3, 3, 0]) + 1.4*B*np.array([0, 1, 2, 3]))*2e6*np.pi\n",
    "\n",
    "def R_sc(detuning, I=I_sat):\n",
    "    return Gamma/2*(I/I_sat)/(1+4*(detuning/Gamma)**2+I/I_sat)\n",
    "\n",
    "def Omega_Raman(B=5, I=I_sat):\n",
    "    Omega_s2p = Gamma*np.sqrt(I/(3*2*I_sat))\n",
    "    Omega_m1h = 2/3*1/3*Omega_s2p**2/(2*Freq_offset(B)[1])\n",
    "    Omega_p1h = 2/3*1/3*Omega_s2p**2/(2*Freq_offset(B)[2])\n",
    "    Omega = Omega_m1h+Omega_p1h\n",
    "    return Omega"
   ]
  },
  {
   "cell_type": "code",
   "execution_count": 366,
   "id": "5c8735da-8ab3-4c95-a859-f34908586dce",
   "metadata": {},
   "outputs": [],
   "source": [
    "def H_op(tList, B=5, I=I_sat, is_Raman=True, is_decay=True):\n",
    "    # Raman transitions b/w ground states with gs Zeeman splitting as detuning \n",
    "    if is_Raman:\n",
    "        H = Omega_Raman(B, I)/2*sigmax()+B*2*np.pi*650*sigmaz()/2\n",
    "    else:\n",
    "        H = qeye(2)\n",
    "    \n",
    "    # With spontaneous emission\n",
    "    # +-1/2 -> +-1/2: dephasing (T2)\n",
    "    # +-1/2 -> -+1/2: depolarizing (T1)\n",
    "    if is_decay:\n",
    "        det_list = Freq_offset(B)\n",
    "    \n",
    "        # Decay rate b/w ground states via P states\n",
    "        def R_11(_I):\n",
    "            sc_0 = 1*R_sc(det_list[0], _I*1/3)\n",
    "            sc_1 = 2/3*R_sc(det_list[1], _I*1/3*2/3)\n",
    "            sc_2 = 1/3*R_sc(det_list[2], _I*1/3*1/3)\n",
    "            return sc_0+sc_1+sc_2\n",
    "        \n",
    "        def R_12(_I):\n",
    "            sc_1 = 1/3*R_sc(det_list[1], _I*1/3*2/3)\n",
    "            sc_2 = 2/3*R_sc(det_list[2], _I*1/3*1/3)\n",
    "            return sc_1+sc_2\n",
    "\n",
    "        def R_21(_I):\n",
    "            sc_2 = 1/3*R_sc(det_list[2], _I*1/3*2/3)\n",
    "            sc_1 = 2/3*R_sc(det_list[1], _I*1/3*1/3)\n",
    "            return sc_2+sc_1\n",
    "        \n",
    "        def R_22(_I):\n",
    "            sc_1 = 1/3*R_sc(det_list[1], _I*1/3*1/3)\n",
    "            sc_2 = 2/3*R_sc(det_list[2], _I*1/3*2/3)\n",
    "            sc_3 = 1*R_sc(det_list[3], _I*1/3)\n",
    "            return sc_1+sc_2+sc_3\n",
    "        \n",
    "        c_ops = [\n",
    "            np.sqrt(2*R_12(I))*sigmap(),          # -1/2 -> +1/2\n",
    "            np.sqrt(2*R_21(I))*sigmam(),          # +1/2 -> -1/2\n",
    "            np.sqrt(2*R_11(I))*fock_dm(2, 0),     # -1/2 -> -1/2\n",
    "            np.sqrt(2*R_22(I))*fock_dm(2, 1),     # +1/2 -> +1/2\n",
    "        ]\n",
    "    else: # Just Raman, no decay\n",
    "        c_ops = []\n",
    "        \n",
    "    # Initial state\n",
    "    psi_0 = fock(2, 0)\n",
    "    \n",
    "    # return expectations on S +-1/2 states\n",
    "    return mesolve(H, psi_0, tList, c_ops, [fock_dm(2, 0), fock_dm(2, 1)]).expect"
   ]
  },
  {
   "cell_type": "code",
   "execution_count": 367,
   "id": "f0eb885e-f801-480b-a918-f69122acf08a",
   "metadata": {},
   "outputs": [],
   "source": [
    "tList = np.linspace(0, .1, 201)\n",
    "_I = 1*I_sat\n",
    "_is_decay = True\n",
    "# _is_Raman = True\n",
    "_B = 40"
   ]
  },
  {
   "cell_type": "code",
   "execution_count": 368,
   "id": "500dc41d-c58f-4b13-b55f-dfa08d67c22b",
   "metadata": {},
   "outputs": [
    {
     "data": {
      "image/png": "[encoded data removed]",
      "text/plain": [
       "<Figure size 792x360 with 2 Axes>"
      ]
     },
     "metadata": {
      "needs_background": "light"
     },
     "output_type": "display_data"
    }
   ],
   "source": [
    "fig, ax = plt.subplots(1, 2, figsize=(11, 5))\n",
    "\n",
    "ax[0].plot(tList, H_op(tList, B=_B, I=_I, is_Raman=True, is_decay=_is_decay)[0], color='tab:blue', label='Raman')\n",
    "ax[0].plot(tList, H_op(tList, B=_B, I=_I, is_Raman=False, is_decay=_is_decay)[0], '--',\n",
    "         color='tab:blue', label='no Raman')\n",
    "ax[1].plot(tList, H_op(tList, B=_B, I=_I, is_Raman=True, is_decay=_is_decay)[1], color='tab:orange', label='Raman')\n",
    "ax[1].plot(tList, H_op(tList, B=_B, I=_I, is_Raman=False, is_decay=_is_decay)[1], '--',\n",
    "         color='tab:orange', label='no Raman')\n",
    "\n",
    "ax[0].set_ylim([0.9, 1.01])\n",
    "ax[1].set_ylim([-0.01, 0.1])\n",
    "ax[0].set_title('$P_{-1/2}$, B='+str(_B)+'G, I='+str(I/I_sat)+'I_sat')\n",
    "ax[1].set_title('$P_{+1/2}$, B='+str(_B)+'G, I='+str(I/I_sat)+'I_sat')\n",
    "ax[0].set_ylabel('Population in S-manifold')\n",
    "\n",
    "for i in range(2):\n",
    "    ax[i].grid()\n",
    "    ax[i].legend()\n",
    "    ax[i].set_xlabel(\"Imaging Time (s)\")"
   ]
  },
  {
   "cell_type": "markdown",
   "id": "f8034067-708c-47ec-b866-ce00fff3aad1",
   "metadata": {},
   "source": [
    "Some negligible effect from Raman when considering -3/2 imaging."
   ]
  },
  {
   "cell_type": "code",
   "execution_count": null,
   "id": "2575a960-1961-481b-a349-00d6ee4d9f90",
   "metadata": {},
   "outputs": [],
   "source": []
  }
 ],
 "metadata": {
  "kernelspec": {
   "display_name": "Python 3 (ipykernel)",
   "language": "python",
   "name": "python3"
  },
  "language_info": {
   "codemirror_mode": {
    "name": "ipython",
    "version": 3
   },
   "file_extension": ".py",
   "mimetype": "text/x-python",
   "name": "python",
   "nbconvert_exporter": "python",
   "pygments_lexer": "ipython3",
   "version": "3.9.12"
  }
 },
 "nbformat": 4,
 "nbformat_minor": 5
}
