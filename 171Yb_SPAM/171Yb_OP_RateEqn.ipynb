{
 "cells": [
  {
   "cell_type": "code",
   "execution_count": 250,
   "id": "7953e7ca-23ca-4270-ac31-0aab3bb663af",
   "metadata": {},
   "outputs": [],
   "source": [
    "import numpy as np\n",
    "import matplotlib.pyplot as plt\n",
    "from qutip import *"
   ]
  },
  {
   "cell_type": "code",
   "execution_count": 371,
   "id": "154e4374-4090-4983-8259-fba92b0de492",
   "metadata": {},
   "outputs": [],
   "source": [
    "# 3P1 linewidth \n",
    "Gamma = 182e3 * 2 * np.pi\n",
    "\n",
    "# I_sat: 0.14 W/cm^2\n",
    "I_sat = 0.14\n",
    "\n",
    "def _Freq_offset(B=5):\n",
    "    return (np.array([0, 3, 3, 0]) + 1.4*B*np.array([0, 1, 2, 3]))*2e6*np.pi\n",
    "\n",
    "Freq_offset = _Freq_offset(40)\n",
    "#np.array([0, 23, 43, 60]) * 2e6 * np.pi\n",
    "\n",
    "# Branching ratio:\n",
    "# --    --    --   --\n",
    "#  \\    |     /\n",
    "#   1  2/3  1/3\n",
    "\n",
    "#       --"
   ]
  },
  {
   "cell_type": "code",
   "execution_count": 372,
   "id": "63c9e0cc-5cc3-47a4-a1a5-af931c0a7080",
   "metadata": {},
   "outputs": [],
   "source": [
    "# Freq_offset/(2e6*np.pi)"
   ]
  },
  {
   "cell_type": "code",
   "execution_count": 373,
   "id": "4a52ed33-e652-4664-9955-0f75d4591862",
   "metadata": {},
   "outputs": [],
   "source": [
    "# tensor Stark shift + Zeeman for 3P1 state / 2\\pi\n",
    "# (3/2, -1/2): offset = 0\n",
    "def FreqOffset_3P1(B=40):\n",
    "    Freq_diff = np.array([3, 0, -3]) + B * np.ones(3) * 1.4\n",
    "    # return Freq_diff\n",
    "    return (np.cumsum(Freq_diff))# * 1e6 * 2 * np.pi"
   ]
  },
  {
   "cell_type": "code",
   "execution_count": 374,
   "id": "43877356-5cee-4357-b4b1-a1c6350a4a8c",
   "metadata": {},
   "outputs": [],
   "source": [
    "def R_sc(detuning, I=I_sat):\n",
    "    return Gamma/2*(I/I_sat)/(1+4*(detuning/Gamma)**2+I/I_sat)"
   ]
  },
  {
   "cell_type": "code",
   "execution_count": 375,
   "id": "89cb1958-3cf0-43db-a936-9d25e35631ff",
   "metadata": {},
   "outputs": [
    {
     "data": {
      "text/plain": [
       "14.916135983733891"
      ]
     },
     "execution_count": 375,
     "metadata": {},
     "output_type": "execute_result"
    }
   ],
   "source": [
    "1/3*R_sc(23*2e6*np.pi, 5*I_sat)"
   ]
  },
  {
   "cell_type": "code",
   "execution_count": 376,
   "id": "6bb07869-a376-4da9-99df-bd12e33b4a36",
   "metadata": {},
   "outputs": [
    {
     "data": {
      "text/plain": [
       "4.267801518951565"
      ]
     },
     "execution_count": 376,
     "metadata": {},
     "output_type": "execute_result"
    }
   ],
   "source": [
    "1/3*R_sc(43*2e6*np.pi, 5*I_sat)"
   ]
  },
  {
   "cell_type": "code",
   "execution_count": 377,
   "id": "85bd367e-0100-4b7d-bf57-ad8fdb122b0d",
   "metadata": {},
   "outputs": [
    {
     "data": {
      "text/plain": [
       "158824.961931484"
      ]
     },
     "execution_count": 377,
     "metadata": {},
     "output_type": "execute_result"
    }
   ],
   "source": [
    "1/3*R_sc(0, 5*I_sat)"
   ]
  },
  {
   "cell_type": "code",
   "execution_count": 378,
   "id": "50a1433c-6008-4374-adf7-8a2e54c91798",
   "metadata": {},
   "outputs": [
    {
     "data": {
      "text/plain": [
       "0.06704149124749896"
      ]
     },
     "execution_count": 378,
     "metadata": {},
     "output_type": "execute_result"
    }
   ],
   "source": [
    "1/(1/3*R_sc(23*2e6*np.pi, 5*I_sat))"
   ]
  },
  {
   "cell_type": "code",
   "execution_count": 379,
   "id": "74c932e8-fb3b-4e40-8475-48ae085dfe9e",
   "metadata": {},
   "outputs": [],
   "source": [
    "I_exp = I_sat*5\n",
    "theta_pol = 45\n",
    "\n",
    "def R_12(detuning=0, theta=theta_pol/180*np.pi, I=I_exp):\n",
    "    sc_1 = 1/3*R_sc(Freq_offset[1]+detuning, I=I*np.sin(theta)**2*2/3)\n",
    "    sc_2 = 2/3*R_sc(Freq_offset[2]+detuning, I=I*np.cos(theta)**2/2*1/3)\n",
    "    R_12 = sc_1 + sc_2\n",
    "    return R_12\n",
    "\n",
    "def R_21(detuning=0, theta=theta_pol/180*np.pi, I=I_exp):\n",
    "    sc_2 = 1/3*R_sc(Freq_offset[2]+detuning, I=I*np.sin(theta)**2*2/3)\n",
    "    sc_1 = 2/3*R_sc(Freq_offset[1]+detuning, I=I*np.cos(theta)**2/2*1/3)\n",
    "    R_21 = sc_2 + sc_1\n",
    "    return R_21"
   ]
  },
  {
   "cell_type": "code",
   "execution_count": 380,
   "id": "2c1e558f-0561-47dc-8ca1-4c576a0f1dc1",
   "metadata": {},
   "outputs": [],
   "source": [
    "def sol(t, P1_0=1, detuning=0, theta=theta_pol/180*np.pi, I=I_exp):\n",
    "#     def R_12(detuning=0, theta=theta_pol/180*np.pi, I=I_exp):\n",
    "#         sc_1 = 1/3*R_sc(Freq_offset[1]+detuning, I=I*np.sin(theta)**2*2/3)\n",
    "#         sc_2 = 2/3*R_sc(Freq_offset[2]+detuning, I=I*np.cos(theta)**2/2*1/3)\n",
    "#         R_12 = sc_1 + sc_2\n",
    "#         return R_12\n",
    "\n",
    "#     def R_21(detuning=0, theta=theta_pol/180*np.pi, I=I_exp):\n",
    "#         sc_2 = 1/3*R_sc(Freq_offset[2]+detuning, I=I*np.sin(theta)**2*2/3)\n",
    "#         sc_1 = 2/3*R_sc(Freq_offset[1]+detuning, I=I*np.cos(theta)**2/2*1/3)\n",
    "#         R_21 = sc_2 + sc_1\n",
    "#         return R_21\n",
    "    \n",
    "    R21 = R_21(detuning, theta, I)\n",
    "    R12 = R_12(detuning, theta, I)\n",
    "    P1_t = (P1_0-R21/(R12+R21))*np.exp((-R12-R21)*t)+R21/(R12+R21)\n",
    "    P2_t = 1-P1_t\n",
    "    return P1_t, P2_t"
   ]
  },
  {
   "cell_type": "code",
   "execution_count": 381,
   "id": "4aff2ee4-10f6-4634-ba47-75ea1ab498d7",
   "metadata": {},
   "outputs": [],
   "source": [
    "num = 101\n",
    "tList = np.linspace(0, 1, num)\n",
    "P1_list = np.empty(num)\n",
    "P2_list = np.empty(num)\n",
    "for i in range(num):\n",
    "    P1_list[i] = sol(tList[i])[0]\n",
    "    P2_list[i] = sol(tList[i])[1]"
   ]
  },
  {
   "cell_type": "code",
   "execution_count": 382,
   "id": "1b3ec7bc-747d-44ed-b47e-b53885d0e7f8",
   "metadata": {},
   "outputs": [
    {
     "data": {
      "text/plain": [
       "[<matplotlib.lines.Line2D at 0x7fe44ab13fd0>]"
      ]
     },
     "execution_count": 382,
     "metadata": {},
     "output_type": "execute_result"
    },
    {
     "data": {
      "image/png": "[encoded data removed]",
      "text/plain": [
       "<Figure size 432x288 with 1 Axes>"
      ]
     },
     "metadata": {
      "needs_background": "light"
     },
     "output_type": "display_data"
    }
   ],
   "source": [
    "plt.plot(tList, P1_list)\n",
    "plt.plot(tList, P2_list)\n",
    "plt.plot(tList, np.zeros(num))\n",
    "plt.plot(tList, np.ones(num))"
   ]
  },
  {
   "cell_type": "code",
   "execution_count": 383,
   "id": "8e5eb9eb-27e9-4e47-be08-df9e9ba982d5",
   "metadata": {},
   "outputs": [],
   "source": [
    "I_exp = 2*I_sat\n",
    "\n",
    "def R_12_img(detuning=0, I=I_exp):\n",
    "    sc_1 = 1/3*R_sc(Freq_offset[1]+detuning, I=I*1/3*2/3)\n",
    "    sc_2 = 2/3*R_sc(Freq_offset[2]+detuning, I=I*1/3*1/3)\n",
    "    R_12 = sc_1 + sc_2\n",
    "    return R_12\n",
    "\n",
    "def R_21_img(detuning=0, I=I_exp):\n",
    "    sc_2 = 1/3*R_sc(Freq_offset[2]+detuning, I=I*1/3*2/3)\n",
    "    sc_1 = 2/3*R_sc(Freq_offset[1]+detuning, I=I*1/3*1/3)\n",
    "    R_21 = sc_2 + sc_1\n",
    "    return R_21"
   ]
  },
  {
   "cell_type": "code",
   "execution_count": 384,
   "id": "41d887bd-bd6b-40b8-9f0e-7dc59bbd66fb",
   "metadata": {},
   "outputs": [],
   "source": [
    "def sol_img(t, P1_0=1, detuning=0, I=I_exp):\n",
    "    \n",
    "    R21 = R_21_img(detuning, I)\n",
    "    R12 = R_12_img(detuning, I)\n",
    "    P1_t = (P1_0-R21/(R12+R21))*np.exp((-R12-R21)*t)+R21/(R12+R21)\n",
    "    P2_t = 1-P1_t\n",
    "    return P1_t, P2_t"
   ]
  },
  {
   "cell_type": "code",
   "execution_count": 385,
   "id": "8234a078-0919-444e-abdb-610b3536098d",
   "metadata": {},
   "outputs": [],
   "source": [
    "num = 101\n",
    "tList = np.linspace(0, .1, num)\n",
    "P1_list = np.empty(num)\n",
    "P2_list = np.empty(num)\n",
    "for i in range(num):\n",
    "    P1_list[i] = sol_img(tList[i])[0]\n",
    "    P2_list[i] = sol_img(tList[i])[1]"
   ]
  },
  {
   "cell_type": "code",
   "execution_count": 386,
   "id": "cc8de53d-5965-4112-980f-d68d5648a24e",
   "metadata": {},
   "outputs": [
    {
     "data": {
      "image/png": "[encoded data removed]",
      "text/plain": [
       "<Figure size 432x288 with 1 Axes>"
      ]
     },
     "metadata": {
      "needs_background": "light"
     },
     "output_type": "display_data"
    }
   ],
   "source": [
    "plt.plot(tList, P1_list, label='$P_{-1/2}$')\n",
    "plt.plot(tList, P2_list, label='$P_{+1/2}$')\n",
    "# plt.plot(tList, np.zeros(num))\n",
    "# plt.plot(tList, np.ones(num))\n",
    "plt.xlabel('Imaging time (s)')\n",
    "plt.ylabel('Population in S-manifold')\n",
    "plt.legend()\n",
    "plt.title('I=2*I_sat')\n",
    "plt.grid()"
   ]
  },
  {
   "cell_type": "code",
   "execution_count": 370,
   "id": "9c24fc06-716f-4931-b3cb-899487721389",
   "metadata": {},
   "outputs": [],
   "source": [
    "t_img = 0.05 # 100 ms imaging time\n",
    "detuning_m1h = np.linspace(10, 100, 19)*2e6*np.pi\n",
    "detuning_p1h = detuning_m1h*2-3*2e6*np.pi"
   ]
  },
  {
   "cell_type": "code",
   "execution_count": 309,
   "id": "ac0256b4-55b2-4c81-bd75-4681aea9fae5",
   "metadata": {},
   "outputs": [],
   "source": [
    "I_exp = 4*I_sat\n",
    "\n",
    "def R_12_img(detuning_index=0, I=I_exp):\n",
    "    sc_1 = 1/3*R_sc(detuning_m1h[detuning_index], I=I*1/3*2/3)\n",
    "    sc_2 = 2/3*R_sc(detuning_p1h[detuning_index], I=I*1/3*1/3)\n",
    "    R_12 = sc_1 + sc_2\n",
    "    return R_12\n",
    "\n",
    "def R_21_img(detuning_index=0, I=I_exp):\n",
    "    sc_2 = 1/3*R_sc(detuning_p1h[detuning_index], I=I*1/3*2/3)\n",
    "    sc_1 = 2/3*R_sc(detuning_m1h[detuning_index], I=I*1/3*1/3)\n",
    "    R_21 = sc_2 + sc_1\n",
    "    return R_21"
   ]
  },
  {
   "cell_type": "code",
   "execution_count": 310,
   "id": "bb520edd-d8b8-4779-b9a6-a5321b6902ef",
   "metadata": {},
   "outputs": [],
   "source": [
    "def sol_img(t, P1_0=1, detuning_index=0, I=I_exp):\n",
    "    \n",
    "    R21 = R_21_img(detuning_index, I)\n",
    "    R12 = R_12_img(detuning_index, I)\n",
    "    P1_t = (P1_0-R21/(R12+R21))*np.exp((-R12-R21)*t)+R21/(R12+R21)\n",
    "    P2_t = 1-P1_t\n",
    "    return P1_t, P2_t"
   ]
  },
  {
   "cell_type": "code",
   "execution_count": 311,
   "id": "895b79aa-438a-4166-9469-5a93608bbb69",
   "metadata": {},
   "outputs": [],
   "source": [
    "P_m1h_list = []\n",
    "P_m2h_list = []\n",
    "\n",
    "for i in range(len(detuning_m1h)):\n",
    "    P_m1h_list.append(sol_img(t_img, detuning_index=i)[0])\n",
    "    P_m2h_list.append(sol_img(t_img, detuning_index=i)[1])"
   ]
  },
  {
   "cell_type": "code",
   "execution_count": 313,
   "id": "50d9d974-1c8d-436d-ac07-447d54783da8",
   "metadata": {},
   "outputs": [
    {
     "data": {
      "text/plain": [
       "Text(0.5, 1.0, 'I=4*I_sat, imaging time 50 ms')"
      ]
     },
     "execution_count": 313,
     "metadata": {},
     "output_type": "execute_result"
    },
    {
     "data": {
      "image/png": "[encoded data removed]",
      "text/plain": [
       "<Figure size 432x288 with 1 Axes>"
      ]
     },
     "metadata": {
      "needs_background": "light"
     },
     "output_type": "display_data"
    }
   ],
   "source": [
    "# plt.plot((detuning_m1h/2e6/np.pi+3)/1.4, P_m1h_list, label='$P_{-1/2}$')\n",
    "plt.plot((detuning_m1h/2e6/np.pi+3)/1.4, P_m2h_list, label='$P_{+1/2}$')\n",
    "plt.ylim([-0.0, 0.2])\n",
    "plt.grid()\n",
    "plt.legend()\n",
    "plt.xlabel('B-field (G)')\n",
    "plt.ylabel('Population in S-manifold')\n",
    "plt.title('I=4*I_sat, imaging time 50 ms')"
   ]
  },
  {
   "cell_type": "code",
   "execution_count": 304,
   "id": "c7fc9678-8590-4130-9f43-f5670abfdaf9",
   "metadata": {},
   "outputs": [
    {
     "data": {
      "text/plain": [
       "Text(0.5, 1.0, 'I=4*I_sat, imaging time 30 ms')"
      ]
     },
     "execution_count": 304,
     "metadata": {},
     "output_type": "execute_result"
    },
    {
     "data": {
      "image/png": "[encoded data removed]",
      "text/plain": [
       "<Figure size 432x288 with 1 Axes>"
      ]
     },
     "metadata": {
      "needs_background": "light"
     },
     "output_type": "display_data"
    }
   ],
   "source": [
    "plt.plot(detuning_m1h/2e6/np.pi/1.4, P_m1h_list, label='$P_{-1/2}$')\n",
    "plt.plot(detuning_m1h/2e6/np.pi/1.4, P_m2h_list, label='$P_{+1/2}$')\n",
    "plt.ylim([-0.05, 1.05])\n",
    "plt.grid()\n",
    "plt.legend()\n",
    "plt.xlabel('B-field (G)')\n",
    "plt.ylabel('Population in S-manifold')\n",
    "plt.title('I=4*I_sat, imaging time 30 ms')"
   ]
  },
  {
   "cell_type": "code",
   "execution_count": null,
   "id": "83cc2c0e-56a6-496e-95af-d0de5e654fcf",
   "metadata": {},
   "outputs": [],
   "source": []
  }
 ],
 "metadata": {
  "kernelspec": {
   "display_name": "Python 3 (ipykernel)",
   "language": "python",
   "name": "python3"
  },
  "language_info": {
   "codemirror_mode": {
    "name": "ipython",
    "version": 3
   },
   "file_extension": ".py",
   "mimetype": "text/x-python",
   "name": "python",
   "nbconvert_exporter": "python",
   "pygments_lexer": "ipython3",
   "version": "3.9.12"
  }
 },
 "nbformat": 4,
 "nbformat_minor": 5
}
